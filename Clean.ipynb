{
 "cells": [
  {
   "cell_type": "markdown",
   "metadata": {},
   "source": [
    "# Collect & Clean\n"
   ]
  },
  {
   "cell_type": "code",
   "execution_count": 1,
   "metadata": {},
   "outputs": [],
   "source": [
    "import pandas as pd\n",
    "import numpy as np\n",
    "import seaborn as sns\n",
    "import matplotlib.pyplot as plt\n",
    "import math as m"
   ]
  },
  {
   "cell_type": "code",
   "execution_count": 2,
   "metadata": {},
   "outputs": [],
   "source": [
    "class bcolors:\n",
    "    HEADER = '\\033[95m'\n",
    "    OKBLUE = '\\033[94m'\n",
    "    OKCYAN = '\\033[96m'\n",
    "    OKGREEN = '\\033[92m'\n",
    "    WARNING = '\\033[93m'\n",
    "    FAIL = '\\033[91m'\n",
    "    ENDC = '\\033[0m'\n",
    "    BOLD = '\\033[1m'\n",
    "    UNDERLINE = '\\033[4m'"
   ]
  },
  {
   "cell_type": "markdown",
   "metadata": {},
   "source": [
    "## 1. Gathering Data \n",
    "\n",
    "Note here we have two data tables \n",
    "\n",
    "I. The data_orders data set contains the following columns:\n",
    "\n",
    "* order_datetime - time of the order\n",
    "* origin_longitude - longitude of the order\n",
    "* origin_latitude - latitude of the order\n",
    "* m_order_eta - time before order arrival\n",
    "* order_gk - order number\n",
    "* order_status_key - status, an enumeration consisting of the following mapping:\n",
    "    * 4 - cancelled by client,\n",
    "    * 9 - cancelled by system, i.e., a reject\n",
    "* is_driver_assigned_key - whether a driver has been assigned\n",
    "* cancellation_time_in_seconds - how many seconds passed before cancellation\n",
    "\n",
    "II. The data_offers data set is a simple map with 2 columns:\n",
    "\n",
    "* order_gk - order number, associated with the same column from the orders data set\n",
    "* offer_id - ID of an offer \n"
   ]
  },
  {
   "cell_type": "markdown",
   "metadata": {},
   "source": [
    "### i. Data Collection"
   ]
  },
  {
   "cell_type": "code",
   "execution_count": 3,
   "metadata": {},
   "outputs": [],
   "source": [
    "orders = pd.read_csv('datasets/original datasets/data_orders.csv')\n",
    "offers = pd.read_csv('datasets/original datasets/data_offers.csv')"
   ]
  },
  {
   "cell_type": "code",
   "execution_count": 4,
   "metadata": {},
   "outputs": [
    {
     "data": {
      "text/html": [
       "<div>\n",
       "<style scoped>\n",
       "    .dataframe tbody tr th:only-of-type {\n",
       "        vertical-align: middle;\n",
       "    }\n",
       "\n",
       "    .dataframe tbody tr th {\n",
       "        vertical-align: top;\n",
       "    }\n",
       "\n",
       "    .dataframe thead th {\n",
       "        text-align: right;\n",
       "    }\n",
       "</style>\n",
       "<table border=\"1\" class=\"dataframe\">\n",
       "  <thead>\n",
       "    <tr style=\"text-align: right;\">\n",
       "      <th></th>\n",
       "      <th>order_datetime</th>\n",
       "      <th>origin_longitude</th>\n",
       "      <th>origin_latitude</th>\n",
       "      <th>m_order_eta</th>\n",
       "      <th>order_gk</th>\n",
       "      <th>order_status_key</th>\n",
       "      <th>is_driver_assigned_key</th>\n",
       "      <th>cancellations_time_in_seconds</th>\n",
       "    </tr>\n",
       "  </thead>\n",
       "  <tbody>\n",
       "    <tr>\n",
       "      <th>0</th>\n",
       "      <td>18:08:07</td>\n",
       "      <td>-0.978916</td>\n",
       "      <td>51.456173</td>\n",
       "      <td>60.0</td>\n",
       "      <td>3000583041974</td>\n",
       "      <td>4</td>\n",
       "      <td>1</td>\n",
       "      <td>198.0</td>\n",
       "    </tr>\n",
       "    <tr>\n",
       "      <th>1</th>\n",
       "      <td>20:57:32</td>\n",
       "      <td>-0.950385</td>\n",
       "      <td>51.456843</td>\n",
       "      <td>NaN</td>\n",
       "      <td>3000583116437</td>\n",
       "      <td>4</td>\n",
       "      <td>0</td>\n",
       "      <td>128.0</td>\n",
       "    </tr>\n",
       "    <tr>\n",
       "      <th>2</th>\n",
       "      <td>12:07:50</td>\n",
       "      <td>-0.969520</td>\n",
       "      <td>51.455544</td>\n",
       "      <td>477.0</td>\n",
       "      <td>3000582891479</td>\n",
       "      <td>4</td>\n",
       "      <td>1</td>\n",
       "      <td>46.0</td>\n",
       "    </tr>\n",
       "    <tr>\n",
       "      <th>3</th>\n",
       "      <td>13:50:20</td>\n",
       "      <td>-1.054671</td>\n",
       "      <td>51.460544</td>\n",
       "      <td>658.0</td>\n",
       "      <td>3000582941169</td>\n",
       "      <td>4</td>\n",
       "      <td>1</td>\n",
       "      <td>62.0</td>\n",
       "    </tr>\n",
       "    <tr>\n",
       "      <th>4</th>\n",
       "      <td>21:24:45</td>\n",
       "      <td>-0.967605</td>\n",
       "      <td>51.458236</td>\n",
       "      <td>NaN</td>\n",
       "      <td>3000583140877</td>\n",
       "      <td>9</td>\n",
       "      <td>0</td>\n",
       "      <td>NaN</td>\n",
       "    </tr>\n",
       "    <tr>\n",
       "      <th>5</th>\n",
       "      <td>21:21:23</td>\n",
       "      <td>-0.947011</td>\n",
       "      <td>51.456380</td>\n",
       "      <td>NaN</td>\n",
       "      <td>3000583117054</td>\n",
       "      <td>9</td>\n",
       "      <td>0</td>\n",
       "      <td>NaN</td>\n",
       "    </tr>\n",
       "    <tr>\n",
       "      <th>6</th>\n",
       "      <td>07:58:15</td>\n",
       "      <td>-0.955637</td>\n",
       "      <td>51.470372</td>\n",
       "      <td>NaN</td>\n",
       "      <td>3000582791789</td>\n",
       "      <td>9</td>\n",
       "      <td>0</td>\n",
       "      <td>NaN</td>\n",
       "    </tr>\n",
       "    <tr>\n",
       "      <th>7</th>\n",
       "      <td>07:53:46</td>\n",
       "      <td>-0.978230</td>\n",
       "      <td>51.454575</td>\n",
       "      <td>NaN</td>\n",
       "      <td>3000582791562</td>\n",
       "      <td>9</td>\n",
       "      <td>0</td>\n",
       "      <td>NaN</td>\n",
       "    </tr>\n",
       "    <tr>\n",
       "      <th>8</th>\n",
       "      <td>08:53:01</td>\n",
       "      <td>-1.052298</td>\n",
       "      <td>51.454308</td>\n",
       "      <td>NaN</td>\n",
       "      <td>3000582817606</td>\n",
       "      <td>9</td>\n",
       "      <td>0</td>\n",
       "      <td>NaN</td>\n",
       "    </tr>\n",
       "    <tr>\n",
       "      <th>9</th>\n",
       "      <td>06:33:52</td>\n",
       "      <td>-0.976216</td>\n",
       "      <td>51.433202</td>\n",
       "      <td>NaN</td>\n",
       "      <td>3000582765616</td>\n",
       "      <td>4</td>\n",
       "      <td>0</td>\n",
       "      <td>78.0</td>\n",
       "    </tr>\n",
       "  </tbody>\n",
       "</table>\n",
       "</div>"
      ],
      "text/plain": [
       "  order_datetime  origin_longitude  origin_latitude  m_order_eta  \\\n",
       "0       18:08:07         -0.978916        51.456173         60.0   \n",
       "1       20:57:32         -0.950385        51.456843          NaN   \n",
       "2       12:07:50         -0.969520        51.455544        477.0   \n",
       "3       13:50:20         -1.054671        51.460544        658.0   \n",
       "4       21:24:45         -0.967605        51.458236          NaN   \n",
       "5       21:21:23         -0.947011        51.456380          NaN   \n",
       "6       07:58:15         -0.955637        51.470372          NaN   \n",
       "7       07:53:46         -0.978230        51.454575          NaN   \n",
       "8       08:53:01         -1.052298        51.454308          NaN   \n",
       "9       06:33:52         -0.976216        51.433202          NaN   \n",
       "\n",
       "        order_gk  order_status_key  is_driver_assigned_key  \\\n",
       "0  3000583041974                 4                       1   \n",
       "1  3000583116437                 4                       0   \n",
       "2  3000582891479                 4                       1   \n",
       "3  3000582941169                 4                       1   \n",
       "4  3000583140877                 9                       0   \n",
       "5  3000583117054                 9                       0   \n",
       "6  3000582791789                 9                       0   \n",
       "7  3000582791562                 9                       0   \n",
       "8  3000582817606                 9                       0   \n",
       "9  3000582765616                 4                       0   \n",
       "\n",
       "   cancellations_time_in_seconds  \n",
       "0                          198.0  \n",
       "1                          128.0  \n",
       "2                           46.0  \n",
       "3                           62.0  \n",
       "4                            NaN  \n",
       "5                            NaN  \n",
       "6                            NaN  \n",
       "7                            NaN  \n",
       "8                            NaN  \n",
       "9                           78.0  "
      ]
     },
     "execution_count": 4,
     "metadata": {},
     "output_type": "execute_result"
    }
   ],
   "source": [
    "orders.head(10)"
   ]
  },
  {
   "cell_type": "code",
   "execution_count": 5,
   "metadata": {},
   "outputs": [
    {
     "data": {
      "text/html": [
       "<div>\n",
       "<style scoped>\n",
       "    .dataframe tbody tr th:only-of-type {\n",
       "        vertical-align: middle;\n",
       "    }\n",
       "\n",
       "    .dataframe tbody tr th {\n",
       "        vertical-align: top;\n",
       "    }\n",
       "\n",
       "    .dataframe thead th {\n",
       "        text-align: right;\n",
       "    }\n",
       "</style>\n",
       "<table border=\"1\" class=\"dataframe\">\n",
       "  <thead>\n",
       "    <tr style=\"text-align: right;\">\n",
       "      <th></th>\n",
       "      <th>order_gk</th>\n",
       "      <th>offer_id</th>\n",
       "    </tr>\n",
       "  </thead>\n",
       "  <tbody>\n",
       "    <tr>\n",
       "      <th>0</th>\n",
       "      <td>3000579625629</td>\n",
       "      <td>300050936206</td>\n",
       "    </tr>\n",
       "    <tr>\n",
       "      <th>1</th>\n",
       "      <td>3000627306450</td>\n",
       "      <td>300052064651</td>\n",
       "    </tr>\n",
       "    <tr>\n",
       "      <th>2</th>\n",
       "      <td>3000632920686</td>\n",
       "      <td>300052408812</td>\n",
       "    </tr>\n",
       "    <tr>\n",
       "      <th>3</th>\n",
       "      <td>3000632771725</td>\n",
       "      <td>300052393030</td>\n",
       "    </tr>\n",
       "    <tr>\n",
       "      <th>4</th>\n",
       "      <td>3000583467642</td>\n",
       "      <td>300051001196</td>\n",
       "    </tr>\n",
       "    <tr>\n",
       "      <th>5</th>\n",
       "      <td>3000589281354</td>\n",
       "      <td>300051262015</td>\n",
       "    </tr>\n",
       "    <tr>\n",
       "      <th>6</th>\n",
       "      <td>3000589106142</td>\n",
       "      <td>300051250324</td>\n",
       "    </tr>\n",
       "    <tr>\n",
       "      <th>7</th>\n",
       "      <td>3000622819913</td>\n",
       "      <td>300051794962</td>\n",
       "    </tr>\n",
       "    <tr>\n",
       "      <th>8</th>\n",
       "      <td>3000630156692</td>\n",
       "      <td>300052288434</td>\n",
       "    </tr>\n",
       "    <tr>\n",
       "      <th>9</th>\n",
       "      <td>3000630781485</td>\n",
       "      <td>300052318376</td>\n",
       "    </tr>\n",
       "  </tbody>\n",
       "</table>\n",
       "</div>"
      ],
      "text/plain": [
       "        order_gk      offer_id\n",
       "0  3000579625629  300050936206\n",
       "1  3000627306450  300052064651\n",
       "2  3000632920686  300052408812\n",
       "3  3000632771725  300052393030\n",
       "4  3000583467642  300051001196\n",
       "5  3000589281354  300051262015\n",
       "6  3000589106142  300051250324\n",
       "7  3000622819913  300051794962\n",
       "8  3000630156692  300052288434\n",
       "9  3000630781485  300052318376"
      ]
     },
     "execution_count": 5,
     "metadata": {},
     "output_type": "execute_result"
    }
   ],
   "source": [
    "offers.head(10)"
   ]
  },
  {
   "cell_type": "markdown",
   "metadata": {},
   "source": [
    "### ii. Describe Data       "
   ]
  },
  {
   "cell_type": "code",
   "execution_count": 6,
   "metadata": {},
   "outputs": [
    {
     "data": {
      "text/html": [
       "<div>\n",
       "<style scoped>\n",
       "    .dataframe tbody tr th:only-of-type {\n",
       "        vertical-align: middle;\n",
       "    }\n",
       "\n",
       "    .dataframe tbody tr th {\n",
       "        vertical-align: top;\n",
       "    }\n",
       "\n",
       "    .dataframe thead th {\n",
       "        text-align: right;\n",
       "    }\n",
       "</style>\n",
       "<table border=\"1\" class=\"dataframe\">\n",
       "  <thead>\n",
       "    <tr style=\"text-align: right;\">\n",
       "      <th></th>\n",
       "      <th>origin_longitude</th>\n",
       "      <th>origin_latitude</th>\n",
       "      <th>m_order_eta</th>\n",
       "      <th>order_gk</th>\n",
       "      <th>order_status_key</th>\n",
       "      <th>is_driver_assigned_key</th>\n",
       "      <th>cancellations_time_in_seconds</th>\n",
       "    </tr>\n",
       "  </thead>\n",
       "  <tbody>\n",
       "    <tr>\n",
       "      <th>count</th>\n",
       "      <td>10716.000000</td>\n",
       "      <td>10716.000000</td>\n",
       "      <td>2814.000000</td>\n",
       "      <td>1.071600e+04</td>\n",
       "      <td>10716.000000</td>\n",
       "      <td>10716.000000</td>\n",
       "      <td>7307.000000</td>\n",
       "    </tr>\n",
       "    <tr>\n",
       "      <th>mean</th>\n",
       "      <td>-0.964323</td>\n",
       "      <td>51.450541</td>\n",
       "      <td>441.415423</td>\n",
       "      <td>3.000598e+12</td>\n",
       "      <td>5.590612</td>\n",
       "      <td>0.262598</td>\n",
       "      <td>157.892021</td>\n",
       "    </tr>\n",
       "    <tr>\n",
       "      <th>std</th>\n",
       "      <td>0.022818</td>\n",
       "      <td>0.011984</td>\n",
       "      <td>288.006379</td>\n",
       "      <td>2.396261e+07</td>\n",
       "      <td>2.328845</td>\n",
       "      <td>0.440066</td>\n",
       "      <td>213.366963</td>\n",
       "    </tr>\n",
       "    <tr>\n",
       "      <th>min</th>\n",
       "      <td>-1.066957</td>\n",
       "      <td>51.399323</td>\n",
       "      <td>60.000000</td>\n",
       "      <td>3.000550e+12</td>\n",
       "      <td>4.000000</td>\n",
       "      <td>0.000000</td>\n",
       "      <td>3.000000</td>\n",
       "    </tr>\n",
       "    <tr>\n",
       "      <th>25%</th>\n",
       "      <td>-0.974363</td>\n",
       "      <td>51.444643</td>\n",
       "      <td>233.000000</td>\n",
       "      <td>3.000583e+12</td>\n",
       "      <td>4.000000</td>\n",
       "      <td>0.000000</td>\n",
       "      <td>45.000000</td>\n",
       "    </tr>\n",
       "    <tr>\n",
       "      <th>50%</th>\n",
       "      <td>-0.966386</td>\n",
       "      <td>51.451972</td>\n",
       "      <td>368.500000</td>\n",
       "      <td>3.000595e+12</td>\n",
       "      <td>4.000000</td>\n",
       "      <td>0.000000</td>\n",
       "      <td>98.000000</td>\n",
       "    </tr>\n",
       "    <tr>\n",
       "      <th>75%</th>\n",
       "      <td>-0.949605</td>\n",
       "      <td>51.456725</td>\n",
       "      <td>653.000000</td>\n",
       "      <td>3.000623e+12</td>\n",
       "      <td>9.000000</td>\n",
       "      <td>1.000000</td>\n",
       "      <td>187.500000</td>\n",
       "    </tr>\n",
       "    <tr>\n",
       "      <th>max</th>\n",
       "      <td>-0.867088</td>\n",
       "      <td>51.496169</td>\n",
       "      <td>1559.000000</td>\n",
       "      <td>3.000633e+12</td>\n",
       "      <td>9.000000</td>\n",
       "      <td>1.000000</td>\n",
       "      <td>4303.000000</td>\n",
       "    </tr>\n",
       "  </tbody>\n",
       "</table>\n",
       "</div>"
      ],
      "text/plain": [
       "       origin_longitude  origin_latitude  m_order_eta      order_gk  \\\n",
       "count      10716.000000     10716.000000  2814.000000  1.071600e+04   \n",
       "mean          -0.964323        51.450541   441.415423  3.000598e+12   \n",
       "std            0.022818         0.011984   288.006379  2.396261e+07   \n",
       "min           -1.066957        51.399323    60.000000  3.000550e+12   \n",
       "25%           -0.974363        51.444643   233.000000  3.000583e+12   \n",
       "50%           -0.966386        51.451972   368.500000  3.000595e+12   \n",
       "75%           -0.949605        51.456725   653.000000  3.000623e+12   \n",
       "max           -0.867088        51.496169  1559.000000  3.000633e+12   \n",
       "\n",
       "       order_status_key  is_driver_assigned_key  cancellations_time_in_seconds  \n",
       "count      10716.000000            10716.000000                    7307.000000  \n",
       "mean           5.590612                0.262598                     157.892021  \n",
       "std            2.328845                0.440066                     213.366963  \n",
       "min            4.000000                0.000000                       3.000000  \n",
       "25%            4.000000                0.000000                      45.000000  \n",
       "50%            4.000000                0.000000                      98.000000  \n",
       "75%            9.000000                1.000000                     187.500000  \n",
       "max            9.000000                1.000000                    4303.000000  "
      ]
     },
     "execution_count": 6,
     "metadata": {},
     "output_type": "execute_result"
    }
   ],
   "source": [
    "orders.describe()"
   ]
  },
  {
   "cell_type": "code",
   "execution_count": 7,
   "metadata": {},
   "outputs": [
    {
     "data": {
      "text/html": [
       "<div>\n",
       "<style scoped>\n",
       "    .dataframe tbody tr th:only-of-type {\n",
       "        vertical-align: middle;\n",
       "    }\n",
       "\n",
       "    .dataframe tbody tr th {\n",
       "        vertical-align: top;\n",
       "    }\n",
       "\n",
       "    .dataframe thead th {\n",
       "        text-align: right;\n",
       "    }\n",
       "</style>\n",
       "<table border=\"1\" class=\"dataframe\">\n",
       "  <thead>\n",
       "    <tr style=\"text-align: right;\">\n",
       "      <th></th>\n",
       "      <th>order_gk</th>\n",
       "      <th>offer_id</th>\n",
       "    </tr>\n",
       "  </thead>\n",
       "  <tbody>\n",
       "    <tr>\n",
       "      <th>count</th>\n",
       "      <td>3.343630e+05</td>\n",
       "      <td>3.343630e+05</td>\n",
       "    </tr>\n",
       "    <tr>\n",
       "      <th>mean</th>\n",
       "      <td>3.000602e+12</td>\n",
       "      <td>3.000515e+11</td>\n",
       "    </tr>\n",
       "    <tr>\n",
       "      <th>std</th>\n",
       "      <td>2.431638e+07</td>\n",
       "      <td>5.276821e+05</td>\n",
       "    </tr>\n",
       "    <tr>\n",
       "      <th>min</th>\n",
       "      <td>3.000551e+12</td>\n",
       "      <td>3.000506e+11</td>\n",
       "    </tr>\n",
       "    <tr>\n",
       "      <th>25%</th>\n",
       "      <td>3.000585e+12</td>\n",
       "      <td>3.000511e+11</td>\n",
       "    </tr>\n",
       "    <tr>\n",
       "      <th>50%</th>\n",
       "      <td>3.000596e+12</td>\n",
       "      <td>3.000516e+11</td>\n",
       "    </tr>\n",
       "    <tr>\n",
       "      <th>75%</th>\n",
       "      <td>3.000625e+12</td>\n",
       "      <td>3.000520e+11</td>\n",
       "    </tr>\n",
       "    <tr>\n",
       "      <th>max</th>\n",
       "      <td>3.000633e+12</td>\n",
       "      <td>3.000524e+11</td>\n",
       "    </tr>\n",
       "  </tbody>\n",
       "</table>\n",
       "</div>"
      ],
      "text/plain": [
       "           order_gk      offer_id\n",
       "count  3.343630e+05  3.343630e+05\n",
       "mean   3.000602e+12  3.000515e+11\n",
       "std    2.431638e+07  5.276821e+05\n",
       "min    3.000551e+12  3.000506e+11\n",
       "25%    3.000585e+12  3.000511e+11\n",
       "50%    3.000596e+12  3.000516e+11\n",
       "75%    3.000625e+12  3.000520e+11\n",
       "max    3.000633e+12  3.000524e+11"
      ]
     },
     "execution_count": 7,
     "metadata": {},
     "output_type": "execute_result"
    }
   ],
   "source": [
    "offers.describe()"
   ]
  },
  {
   "cell_type": "markdown",
   "metadata": {},
   "source": [
    "### iii. Describe Datatypes      "
   ]
  },
  {
   "cell_type": "code",
   "execution_count": 8,
   "metadata": {},
   "outputs": [
    {
     "name": "stdout",
     "output_type": "stream",
     "text": [
      "<class 'pandas.core.frame.DataFrame'>\n",
      "RangeIndex: 10716 entries, 0 to 10715\n",
      "Data columns (total 8 columns):\n",
      " #   Column                         Non-Null Count  Dtype  \n",
      "---  ------                         --------------  -----  \n",
      " 0   order_datetime                 10716 non-null  object \n",
      " 1   origin_longitude               10716 non-null  float64\n",
      " 2   origin_latitude                10716 non-null  float64\n",
      " 3   m_order_eta                    2814 non-null   float64\n",
      " 4   order_gk                       10716 non-null  int64  \n",
      " 5   order_status_key               10716 non-null  int64  \n",
      " 6   is_driver_assigned_key         10716 non-null  int64  \n",
      " 7   cancellations_time_in_seconds  7307 non-null   float64\n",
      "dtypes: float64(4), int64(3), object(1)\n",
      "memory usage: 669.9+ KB\n"
     ]
    }
   ],
   "source": [
    "orders.info()"
   ]
  },
  {
   "cell_type": "code",
   "execution_count": 9,
   "metadata": {},
   "outputs": [
    {
     "name": "stdout",
     "output_type": "stream",
     "text": [
      "<class 'pandas.core.frame.DataFrame'>\n",
      "RangeIndex: 334363 entries, 0 to 334362\n",
      "Data columns (total 2 columns):\n",
      " #   Column    Non-Null Count   Dtype\n",
      "---  ------    --------------   -----\n",
      " 0   order_gk  334363 non-null  int64\n",
      " 1   offer_id  334363 non-null  int64\n",
      "dtypes: int64(2)\n",
      "memory usage: 5.1 MB\n"
     ]
    }
   ],
   "source": [
    "offers.info()"
   ]
  },
  {
   "cell_type": "markdown",
   "metadata": {},
   "source": [
    "## 2. Cleaning Data\n"
   ]
  },
  {
   "cell_type": "markdown",
   "metadata": {},
   "source": [
    "### i. Check the NaNs in orders & offers"
   ]
  },
  {
   "cell_type": "code",
   "execution_count": 10,
   "metadata": {},
   "outputs": [
    {
     "data": {
      "text/plain": [
       "order_datetime                      0\n",
       "origin_longitude                    0\n",
       "origin_latitude                     0\n",
       "m_order_eta                      7902\n",
       "order_gk                            0\n",
       "order_status_key                    0\n",
       "is_driver_assigned_key              0\n",
       "cancellations_time_in_seconds    3409\n",
       "dtype: int64"
      ]
     },
     "execution_count": 10,
     "metadata": {},
     "output_type": "execute_result"
    }
   ],
   "source": [
    "orders.isna().sum()"
   ]
  },
  {
   "cell_type": "code",
   "execution_count": 11,
   "metadata": {},
   "outputs": [
    {
     "data": {
      "text/plain": [
       "order_gk    0\n",
       "offer_id    0\n",
       "dtype: int64"
      ]
     },
     "execution_count": 11,
     "metadata": {},
     "output_type": "execute_result"
    }
   ],
   "source": [
    "offers.isna().sum()"
   ]
  },
  {
   "cell_type": "markdown",
   "metadata": {},
   "source": [
    "### ii. Interpret NaNs \n",
    "\n",
    "Since there are no missing values in offers. Orders must be closely inspected"
   ]
  },
  {
   "cell_type": "markdown",
   "metadata": {},
   "source": [
    "##### a. Understanding the proporation of missing values to volume of data"
   ]
  },
  {
   "cell_type": "code",
   "execution_count": 12,
   "metadata": {},
   "outputs": [
    {
     "name": "stdout",
     "output_type": "stream",
     "text": [
      "\u001b[92mProportion of missing values in order time estimate column [order_datetime] 0.0 %\u001b[0m\n",
      "\u001b[92mProportion of missing values in order time estimate column [origin_longitude] 0.0 %\u001b[0m\n",
      "\u001b[92mProportion of missing values in order time estimate column [origin_latitude] 0.0 %\u001b[0m\n",
      "\u001b[91mProportion of missing values in order time estimate column [m_order_eta] 73.74020156774915 %\u001b[0m\n",
      "\u001b[92mProportion of missing values in order time estimate column [order_gk] 0.0 %\u001b[0m\n",
      "\u001b[92mProportion of missing values in order time estimate column [order_status_key] 0.0 %\u001b[0m\n",
      "\u001b[92mProportion of missing values in order time estimate column [is_driver_assigned_key] 0.0 %\u001b[0m\n",
      "\u001b[91mProportion of missing values in order time estimate column [cancellations_time_in_seconds] 31.81224337439343 %\u001b[0m\n"
     ]
    }
   ],
   "source": [
    "for key in orders.keys():\n",
    "    if orders.isna().sum()[key]*100/orders.shape[0] > 10:\n",
    "        print(bcolors.FAIL + f\"Proportion of missing values in order time estimate column [{key}] {orders.isna().sum()[key]*100/orders.shape[0]} %\" + bcolors.ENDC)\n",
    "    else:\n",
    "        print(bcolors.OKGREEN + f\"Proportion of missing values in order time estimate column [{key}] {orders.isna().sum()[key]*100/orders.shape[0]} %\" + bcolors.ENDC)"
   ]
  },
  {
   "cell_type": "markdown",
   "metadata": {},
   "source": [
    "##### b. Understand Nulls "
   ]
  },
  {
   "cell_type": "markdown",
   "metadata": {},
   "source": [
    "i. Nulls in m-order-eta   "
   ]
  },
  {
   "cell_type": "code",
   "execution_count": 13,
   "metadata": {},
   "outputs": [
    {
     "name": "stdout",
     "output_type": "stream",
     "text": [
      "Percentage of nulls when driver is assigned but eta is null 0.0%\n",
      "Percentage of nulls when driver is not assigned but eta is null 100.0%\n",
      "\u001b[92mHence when a driver is not assigned the order ETA is labelled as null\u001b[0m\n"
     ]
    }
   ],
   "source": [
    "print(f\"Percentage of nulls when driver is assigned but eta is null {len(orders[orders['m_order_eta'].isna() & orders['is_driver_assigned_key'] != 0])*100/orders.shape[0]}%\")\n",
    "print(f\"Percentage of nulls when driver is not assigned but eta is null {len(orders[orders['m_order_eta'].isna() & orders['is_driver_assigned_key'] == 0])*100/orders.shape[0]}%\")\n",
    "print(bcolors.OKGREEN + \"Hence when a driver is not assigned the order ETA is labelled as null\" + bcolors.ENDC)"
   ]
  },
  {
   "cell_type": "markdown",
   "metadata": {},
   "source": [
    "ii. Nulls in cancellation-time-in-seconds"
   ]
  },
  {
   "cell_type": "code",
   "execution_count": 14,
   "metadata": {},
   "outputs": [
    {
     "name": "stdout",
     "output_type": "stream",
     "text": [
      "Percentage of nulls in cancellation times when order is autocancelled is  100.0%\n",
      "Percentage of nulls in cancellation times when order is autocancelled is  0.0%\n",
      "\u001b[92mHence when a driver is not assigned the order ETA is labelled as null\u001b[0m\n"
     ]
    }
   ],
   "source": [
    "o4 = orders[orders['order_status_key'].astype(int) == 4]\n",
    "o9 = orders[orders['order_status_key'].astype(int) == 9]\n",
    "\n",
    "if len(o4) + len (o9) == len(orders):\n",
    "    print(f\"Percentage of nulls in cancellation times when order is autocancelled is  {len(o9[o9['cancellations_time_in_seconds'].isna()]) *100/o9.shape[0]}%\")\n",
    "    print(f\"Percentage of nulls in cancellation times when order is autocancelled is  {len(o4[o4['cancellations_time_in_seconds'].isna()]) *100/o4.shape[0]}%\")\n",
    "    print(bcolors.OKGREEN + \"Hence when a driver is not assigned the order ETA is labelled as null\" + bcolors.ENDC)"
   ]
  },
  {
   "cell_type": "markdown",
   "metadata": {},
   "source": [
    "##### c. Treat Nulls\n",
    "\n",
    "Since the proportion of nulls in some cases is higher than 10% hence we must treat them and not ignore them"
   ]
  },
  {
   "cell_type": "markdown",
   "metadata": {},
   "source": [
    "i. *_Nulls in m-order-eta_* arise due to failure to assign a ride hence in order to better the analysis lets label it as 0 since the minimum eta for any satisfied order is 3 or greater time units\n",
    "\n",
    "ii. *_Nulls in cancellations-time-in-seconds_* is null when the ride is auto cancelled i.e. has code 9"
   ]
  },
  {
   "cell_type": "code",
   "execution_count": 15,
   "metadata": {},
   "outputs": [],
   "source": [
    "orders.fillna(value={\"cancellations_time_in_seconds\":0, 'm_order_eta':0}, inplace=True)"
   ]
  },
  {
   "cell_type": "code",
   "execution_count": 16,
   "metadata": {},
   "outputs": [
    {
     "data": {
      "text/plain": [
       "order_datetime                   0\n",
       "origin_longitude                 0\n",
       "origin_latitude                  0\n",
       "m_order_eta                      0\n",
       "order_gk                         0\n",
       "order_status_key                 0\n",
       "is_driver_assigned_key           0\n",
       "cancellations_time_in_seconds    0\n",
       "dtype: int64"
      ]
     },
     "execution_count": 16,
     "metadata": {},
     "output_type": "execute_result"
    }
   ],
   "source": [
    "orders.isna().sum()"
   ]
  },
  {
   "cell_type": "markdown",
   "metadata": {},
   "source": [
    "## 3. Saving a copy of the cleaned data"
   ]
  },
  {
   "cell_type": "code",
   "execution_count": 17,
   "metadata": {},
   "outputs": [],
   "source": [
    "orders.to_csv('datasets/cleaned datasets/data_orders.csv')\n",
    "offers.to_csv('datasets/cleaned datasets/data_offers.csv')"
   ]
  }
 ],
 "metadata": {
  "kernelspec": {
   "display_name": "IMD-Internship",
   "language": "python",
   "name": "python3"
  },
  "language_info": {
   "codemirror_mode": {
    "name": "ipython",
    "version": 3
   },
   "file_extension": ".py",
   "mimetype": "text/x-python",
   "name": "python",
   "nbconvert_exporter": "python",
   "pygments_lexer": "ipython3",
   "version": "3.11.4"
  },
  "orig_nbformat": 4
 },
 "nbformat": 4,
 "nbformat_minor": 2
}
